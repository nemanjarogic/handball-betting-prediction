{
 "cells": [
  {
   "cell_type": "code",
   "execution_count": 221,
   "metadata": {
    "collapsed": false
   },
   "outputs": [],
   "source": [
    "from bs4 import BeautifulSoup\n",
    "import xlwt\n",
    "import openpyxl\n"
   ]
  },
  {
   "cell_type": "code",
   "execution_count": 222,
   "metadata": {
    "collapsed": false
   },
   "outputs": [],
   "source": [
    "def loadSeason(season):\n",
    "    ecj_data = open(season,'r').read()\n",
    "    soup = BeautifulSoup(ecj_data)\n",
    "    \n",
    "    list_of_teams_temp = soup.findAll(\"span\", { \"class\" : \"padl\" })\n",
    "    results_temp = soup.findAll(\"td\", { \"class\" : \"cell_sa score  bold\" })\n",
    "    \n",
    "    list_of_teams = []\n",
    "    for team in list_of_teams_temp:\n",
    "        x = team.get_text();\n",
    "        list_of_teams.append(x.encode(\"utf-8\"))\n",
    "    \n",
    "    results = []\n",
    "    for result in results_temp:\n",
    "        if result.get_text()==\"-\":\n",
    "            home_team_score = 0\n",
    "            away_team_score = 0\n",
    "        else:\n",
    "            home_team_score,away_team_score = result.get_text().split(':')\n",
    "        \n",
    "        results.append(int(home_team_score))\n",
    "        results.append(int(away_team_score))\n",
    "\n",
    "    list_of_teams = list_of_teams[::-1] # obrcemo redosled jer se u .html fajlu utakmice zapisane od 34-og kola ka 1-om\n",
    "    results = results[::-1] #obrcemo redosled utakmica\n",
    "    \n",
    "    return list_of_teams,results"
   ]
  },
  {
   "cell_type": "code",
   "execution_count": 223,
   "metadata": {
    "collapsed": false
   },
   "outputs": [],
   "source": [
    "def writeSeasonInExcel(file_name,list_of_teams,results):\n",
    "    book = xlwt.Workbook()\n",
    "    sh = book.add_sheet(\"Sheet 1\")\n",
    "    print len(list_of_teams)\n",
    "    print len(results)\n",
    "\n",
    "    for i in range(0,len(list_of_teams),2):\n",
    "        if (\"Germany\" in list_of_teams[i+1]) or (\"Bundesliga Stars\" in list_of_teams[i]):\n",
    "            continue\n",
    "        sh.write(i/2,0,list_of_teams[i+1])\n",
    "        sh.write(i/2,1,list_of_teams[i])\n",
    "        sh.write(i/2,2,results[i+1])\n",
    "        sh.write(i/2,3,results[i])\n",
    "    \n",
    "    book.save(file_name)"
   ]
  },
  {
   "cell_type": "code",
   "execution_count": 224,
   "metadata": {
    "collapsed": false
   },
   "outputs": [
    {
     "name": "stdout",
     "output_type": "stream",
     "text": [
      "0\n",
      "686\n",
      "686\n",
      "1\n",
      "614\n",
      "614\n",
      "2\n",
      "612\n",
      "612\n",
      "3\n",
      "612\n",
      "612\n",
      "4\n",
      "612\n",
      "612\n",
      "5\n",
      "614\n",
      "614\n",
      "6\n",
      "612\n",
      "612\n"
     ]
    }
   ],
   "source": [
    "NUMBER_OF_SEASONS = 7\n",
    "start_season_begin_year = 2014\n",
    "start_season_end_year = 2015\n",
    "\n",
    "for i in range(0,NUMBER_OF_SEASONS):\n",
    "    print i\n",
    "    seasonName = \"season\" + str(start_season_begin_year-i) + \"-\" + str(start_season_end_year-i) \n",
    "    list_of_teams,results = loadSeason(seasonName + \".html\")\n",
    "    writeSeasonInExcel(seasonName + \".xls\",list_of_teams,results)\n"
   ]
  },
  {
   "cell_type": "code",
   "execution_count": 225,
   "metadata": {
    "collapsed": false
   },
   "outputs": [],
   "source": [
    "def startProcessingData():\n",
    "        NUMBER_OF_SEASONS = 7\n",
    "        NUMBER_OF_PREVIOUS_GAMES = 6\n",
    "        MR_MAX = 100 #Match rating maximum\n",
    "        \n",
    "        workbook = openpyxl.load_workbook(\"list_of_all_teams.xlsx\", use_iterators=True)\n",
    "        sheet = workbook.worksheets[0]\n",
    "        number_of_all_teams = sheet.get_highest_row() - 1 \n",
    "        \n",
    "        current_standing = {}\n",
    "        previous_standing1 = {} #standing of one season before current season\n",
    "        previous_standing2 = {} #standing of two season before current season\n",
    "        previous_standing3 = {} #standing of three season before current season\n",
    "        goal_difference = {} \n",
    "        \n",
    "        for row in sheet.iter_rows():\n",
    "            for k in row:\n",
    "                current_standing[k.internal_value.encode(\"utf-8\")] = 0 \n",
    "                previous_standing1[k.internal_value.encode(\"utf-8\")] = 0\n",
    "                previous_standing2[k.internal_value.encode(\"utf-8\")] = 0\n",
    "                previous_standing3[k.internal_value.encode(\"utf-8\")] = 0\n",
    "                goal_difference[k.internal_value.encode(\"utf-8\")] = [0] * NUMBER_OF_PREVIOUS_GAMES\n",
    "        \n",
    "       \n",
    "        return goal_difference"
   ]
  },
  {
   "cell_type": "code",
   "execution_count": 226,
   "metadata": {
    "collapsed": false
   },
   "outputs": [
    {
     "name": "stdout",
     "output_type": "stream",
     "text": [
      "{'Rhein-Neckar ': [0, 0, 0, 0, 0, 0], 'TVB Stuttgart': [0, 0, 0, 0, 0, 0], 'Stralsunder ': [0, 0, 0, 0, 0, 0], 'Neuhausen/Erms ': [0, 0, 0, 0, 0, 0], 'HSG Wetzlar': [0, 0, 0, 0, 0, 0], 'Bergischer': [0, 0, 0, 0, 0, 0], 'Flensburg-H.': [0, 0, 0, 0, 0, 0], 'Eisenach': [0, 0, 0, 0, 0, 0], 'Hannover-Burgdorf ': [0, 0, 0, 0, 0, 0], 'Fuchse Berlin': [0, 0, 0, 0, 0, 0], 'Wilhelmshavener ': [0, 0, 0, 0, 0, 0], 'Kiel': [0, 0, 0, 0, 0, 0], 'Goppingen': [0, 0, 0, 0, 0, 0], 'Emsdetten': [0, 0, 0, 0, 0, 0], 'Hildesheim ': [0, 0, 0, 0, 0, 0], 'Erlangen': [0, 0, 0, 0, 0, 0], 'MT Melsungen': [0, 0, 0, 0, 0, 0], 'Hamburg': [0, 0, 0, 0, 0, 0], 'Dusseldorf ': [0, 0, 0, 0, 0, 0], 'Minden': [0, 0, 0, 0, 0, 0], 'Friesenheim': [0, 0, 0, 0, 0, 0], 'Rheinland ': [0, 0, 0, 0, 0, 0], 'Grosswallstadt': [0, 0, 0, 0, 0, 0], 'Pfullingen ': [0, 0, 0, 0, 0, 0], 'N-Lubbecke': [0, 0, 0, 0, 0, 0], 'HBW Balingen-Weilstetten': [0, 0, 0, 0, 0, 0], 'Hamm-Westfalen ': [0, 0, 0, 0, 0, 0], 'Conccordia Delitzsch ': [0, 0, 0, 0, 0, 0], 'Gummersbach': [0, 0, 0, 0, 0, 0], 'SC Magdeburg': [0, 0, 0, 0, 0, 0], 'Leipzig': [0, 0, 0, 0, 0, 0], 'Lemgo': [0, 0, 0, 0, 0, 0], 'Huttenberg ': [0, 0, 0, 0, 0, 0], 'Essen': [0, 0, 0, 0, 0, 0], 'Bietigheim-Metterzimmern': [0, 0, 0, 0, 0, 0]}\n"
     ]
    }
   ],
   "source": [
    "goal_difference = startProcessingData()\n",
    "print goal_difference"
   ]
  },
  {
   "cell_type": "code",
   "execution_count": null,
   "metadata": {
    "collapsed": true
   },
   "outputs": [],
   "source": []
  }
 ],
 "metadata": {
  "kernelspec": {
   "display_name": "Python 2",
   "language": "python",
   "name": "python2"
  },
  "language_info": {
   "codemirror_mode": {
    "name": "ipython",
    "version": 2
   },
   "file_extension": ".py",
   "mimetype": "text/x-python",
   "name": "python",
   "nbconvert_exporter": "python",
   "pygments_lexer": "ipython2",
   "version": "2.7.10"
  }
 },
 "nbformat": 4,
 "nbformat_minor": 0
}
