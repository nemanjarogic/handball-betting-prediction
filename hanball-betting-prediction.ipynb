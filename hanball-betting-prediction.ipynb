{
 "cells": [
  {
   "cell_type": "code",
   "execution_count": 17,
   "metadata": {
    "collapsed": false
   },
   "outputs": [],
   "source": [
    "from bs4 import BeautifulSoup\n",
    "import xlwt\n",
    "import openpyxl\n"
   ]
  },
  {
   "cell_type": "code",
   "execution_count": 18,
   "metadata": {
    "collapsed": false
   },
   "outputs": [],
   "source": [
    "def loadSeason(season):\n",
    "    ecj_data = open(season,'r').read()\n",
    "    soup = BeautifulSoup(ecj_data)\n",
    "    \n",
    "    list_of_teams_temp = soup.findAll(\"span\", { \"class\" : \"padl\" })\n",
    "    results_temp = soup.findAll(\"td\", { \"class\" : \"cell_sa score  bold\" })\n",
    "    \n",
    "    list_of_teams = []\n",
    "    for team in list_of_teams_temp:\n",
    "        x = team.get_text();\n",
    "        list_of_teams.append(x.encode(\"utf-8\"))\n",
    "    \n",
    "    results = []\n",
    "    for result in results_temp:\n",
    "        if result.get_text()==\"-\":\n",
    "            home_team_score = 0\n",
    "            away_team_score = 0\n",
    "        else:\n",
    "            home_team_score,away_team_score = result.get_text().split(':')\n",
    "        \n",
    "        results.append(int(home_team_score))\n",
    "        results.append(int(away_team_score))\n",
    "\n",
    "    list_of_teams = list_of_teams[::-1] # obrcemo redosled jer se u .html fajlu utakmice zapisane od 34-og kola ka 1-om\n",
    "    results = results[::-1]\n",
    "    \n",
    "    return list_of_teams,results"
   ]
  },
  {
   "cell_type": "code",
   "execution_count": 19,
   "metadata": {
    "collapsed": false
   },
   "outputs": [],
   "source": [
    "def writeSeasonInExcel(file_name,list_of_teams,results):\n",
    "    book = xlwt.Workbook()\n",
    "    sh = book.add_sheet(\"Sheet 1\")\n",
    "\n",
    "    for i in range(0,len(list_of_teams),2):\n",
    "        if (\"Germany\" in list_of_teams[i+1]) or (\"Bundesliga Stars\" in list_of_teams[i]): # u .html fajlu se nalazi i ALL-STAR utakmica\n",
    "            continue\n",
    "        sh.write(i/2,0,list_of_teams[i+1])\n",
    "        sh.write(i/2,1,list_of_teams[i])\n",
    "        sh.write(i/2,2,results[i+1])\n",
    "        sh.write(i/2,3,results[i])\n",
    "    \n",
    "    book.save(file_name)"
   ]
  },
  {
   "cell_type": "code",
   "execution_count": 20,
   "metadata": {
    "collapsed": false
   },
   "outputs": [],
   "source": [
    "NUMBER_OF_SEASONS = 7\n",
    "start_season_begin_year = 2014\n",
    "start_season_end_year = 2015\n",
    "\n",
    "for i in range(0,NUMBER_OF_SEASONS):\n",
    "    seasonName = \"DataSet/season\" + str(start_season_begin_year-i) + \"-\" + str(start_season_end_year-i) \n",
    "    list_of_teams,results = loadSeason(seasonName + \".html\")\n",
    "    writeSeasonInExcel(seasonName + \".xls\",list_of_teams,results)\n"
   ]
  },
  {
   "cell_type": "code",
   "execution_count": 21,
   "metadata": {
    "collapsed": false
   },
   "outputs": [],
   "source": [
    "def startProcessingData():\n",
    "        NUMBER_OF_SEASONS = 7\n",
    "        NUMBER_OF_PREVIOUS_GAMES = 6\n",
    "        MR_MAX = 100 #Match rating maximum\n",
    "        \n",
    "        workbook = openpyxl.load_workbook(\"DataSet/list_of_all_teams.xlsx\", use_iterators=True)\n",
    "        sheet = workbook.worksheets[0]\n",
    "        number_of_all_teams = sheet.get_highest_row() - 1 \n",
    "        \n",
    "        current_standing = {}\n",
    "        previous_standing1 = {} #standing of one season before current season\n",
    "        previous_standing2 = {} #standing of two season before current season\n",
    "        previous_standing3 = {} #standing of three season before current season\n",
    "        goal_difference = {} \n",
    "        \n",
    "        for row in sheet.iter_rows():\n",
    "            for k in row:\n",
    "                current_standing[k.internal_value.encode(\"utf-8\")] = 0 \n",
    "                previous_standing1[k.internal_value.encode(\"utf-8\")] = 0\n",
    "                previous_standing2[k.internal_value.encode(\"utf-8\")] = 0\n",
    "                previous_standing3[k.internal_value.encode(\"utf-8\")] = 0\n",
    "                goal_difference[k.internal_value.encode(\"utf-8\")] = [0] * NUMBER_OF_PREVIOUS_GAMES\n",
    "        \n",
    "       \n",
    "        return goal_difference"
   ]
  },
  {
   "cell_type": "code",
   "execution_count": 22,
   "metadata": {
    "collapsed": false
   },
   "outputs": [],
   "source": [
    "goal_difference = startProcessingData()\n"
   ]
  },
  {
   "cell_type": "code",
   "execution_count": null,
   "metadata": {
    "collapsed": true
   },
   "outputs": [],
   "source": []
  }
 ],
 "metadata": {
  "kernelspec": {
   "display_name": "Python 2",
   "language": "python",
   "name": "python2"
  },
  "language_info": {
   "codemirror_mode": {
    "name": "ipython",
    "version": 2
   },
   "file_extension": ".py",
   "mimetype": "text/x-python",
   "name": "python",
   "nbconvert_exporter": "python",
   "pygments_lexer": "ipython2",
   "version": "2.7.10"
  }
 },
 "nbformat": 4,
 "nbformat_minor": 0
}
